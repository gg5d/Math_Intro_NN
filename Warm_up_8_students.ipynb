{
  "cells": [
    {
      "cell_type": "markdown",
      "metadata": {
        "id": "view-in-github",
        "colab_type": "text"
      },
      "source": [
        "<a href=\"https://colab.research.google.com/github/gg5d/Math_Intro_NN/blob/master/Warm_up_8_students.ipynb\" target=\"_parent\"><img src=\"https://colab.research.google.com/assets/colab-badge.svg\" alt=\"Open In Colab\"/></a>"
      ]
    },
    {
      "cell_type": "markdown",
      "id": "c67e7e50-4ace-43db-aefd-8755eb39cabf",
      "metadata": {
        "tags": [],
        "id": "c67e7e50-4ace-43db-aefd-8755eb39cabf"
      },
      "source": [
        "### Warm_up NumPy 2 Continued\n",
        "### University of Virginia\n",
        "### DS 1002: Programming for Data Science\n",
        "---  \n",
        "\n",
        "### PREREQUISITES\n",
        "- import\n",
        "- functions\n",
        "- for ... in\n",
        "\n",
        "### SOURCES\n",
        "- https://numpy.org/\n",
        "- https://en.wikipedia.org/wiki/NumPy\n",
        "- https://www.scipy.org/\n",
        "- https://en.wikipedia.org/wiki/SciPy\n",
        "- https://numpy.org/doc/stable/reference/generated/numpy.ndarray.html\n",
        "- https://docs.scipy.org/doc/numpy-1.15.1/reference/generated/numpy.random.randint.html\n",
        "\n",
        "### OBJECTIVES\n",
        "- Introduction to Numpy\n",
        "\n",
        "### CONCEPTS\n",
        "- The numpy package contains useful functions for math operations\n",
        "- The ndarray is the workhorse of the package"
      ]
    },
    {
      "cell_type": "markdown",
      "id": "33efe4aa-ce72-4779-967b-677c78b63f15",
      "metadata": {
        "id": "33efe4aa-ce72-4779-967b-677c78b63f15"
      },
      "source": [
        "Import what is needed to run numpy"
      ]
    },
    {
      "cell_type": "code",
      "execution_count": null,
      "id": "6e92d60e-ca48-4dbd-b675-98f6e28eb6c8",
      "metadata": {
        "tags": [],
        "id": "6e92d60e-ca48-4dbd-b675-98f6e28eb6c8"
      },
      "outputs": [],
      "source": [
        "import"
      ]
    },
    {
      "cell_type": "markdown",
      "id": "6f13d4ee-6713-483a-8db7-10ae66ffc06b",
      "metadata": {
        "id": "6f13d4ee-6713-483a-8db7-10ae66ffc06b"
      },
      "source": [
        "### Reshape a Multidimensional Array"
      ]
    },
    {
      "cell_type": "markdown",
      "id": "d5578187-49bb-498a-ace5-f0a826b2311b",
      "metadata": {
        "id": "d5578187-49bb-498a-ace5-f0a826b2311b"
      },
      "source": [
        "You are given below 4 2D arrays, each pair corresponding to one sudoku game/solution"
      ]
    },
    {
      "cell_type": "code",
      "execution_count": null,
      "id": "a3235b19-f912-4bf2-9586-ac4ef559c8c6",
      "metadata": {
        "tags": [],
        "id": "a3235b19-f912-4bf2-9586-ac4ef559c8c6"
      },
      "outputs": [],
      "source": [
        "sudoku_game = [[0, 0, 4, 3, 0, 0, 2, 0, 9],\n",
        "               [0, 0, 5, 0, 0, 9, 0, 0, 1],\n",
        "               [0, 7, 0, 0, 6, 0, 0, 4, 3],\n",
        "               [0, 0, 6, 0, 0, 2, 0, 8, 7],\n",
        "               [1, 9, 0, 0, 0, 7, 4, 0, 0],\n",
        "               [0, 5, 0, 0, 8, 3, 0, 0, 0],\n",
        "               [6, 0, 0, 0, 0, 0, 1, 0, 5],\n",
        "               [0, 0, 3, 5, 0, 8, 6, 9, 0],\n",
        "               [0, 4, 2, 9, 1, 0, 3, 0, 0]]\n",
        "\n",
        "sudoku_solution = [[8, 6, 4, 3, 7, 1, 2, 5, 9],\n",
        "                   [3, 2, 5, 8, 4, 9, 7, 6, 1],\n",
        "                   [9, 7, 1, 2, 6, 5, 8, 4, 3],\n",
        "                   [4, 3, 6, 1, 9, 2, 5, 8, 7],\n",
        "                   [1, 9, 8, 6, 5, 7, 4, 3, 2],\n",
        "                   [2, 5, 7, 4, 8, 3, 9, 1, 6],\n",
        "                   [6, 8, 9, 7, 3, 4, 1, 2, 5],\n",
        "                   [7, 1, 3, 5, 2, 8, 6, 9, 4],\n",
        "                   [5, 4, 2, 9, 1, 6, 3, 7, 8]]\n"
      ]
    },
    {
      "cell_type": "code",
      "execution_count": null,
      "id": "f754c4f3-66c4-44c2-a3ac-9f54f8c93334",
      "metadata": {
        "tags": [],
        "id": "f754c4f3-66c4-44c2-a3ac-9f54f8c93334"
      },
      "outputs": [],
      "source": [
        "new_sudoku_game = [[0, 0, 4, 3, 0, 0, 0, 0, 0],\n",
        "                   [8, 9, 0, 2, 0, 0, 6, 7, 0],\n",
        "                   [7, 0, 0, 9, 0, 0, 0, 5, 0],\n",
        "                   [5, 0, 0, 0, 0, 8, 1, 4, 0],\n",
        "                   [0, 7, 0, 0, 3, 2, 0, 6, 0],\n",
        "                   [6, 0, 0, 0, 0, 1, 3, 0, 8],\n",
        "                   [0, 0, 1, 7, 5, 0, 9, 0, 0],\n",
        "                   [0, 0, 5, 0, 4, 0, 0, 1, 2],\n",
        "                   [9, 8, 0, 0, 0, 6, 0, 0, 5]]\n",
        "\n",
        "new_sudoku_solution = [[2, 5, 4, 3, 6, 7, 8, 9, 1],\n",
        "                       [8, 9, 3, 2, 1, 5, 6, 7, 4],\n",
        "                       [7, 1, 6, 9, 8, 4, 2, 5, 3],\n",
        "                       [5, 3, 2, 6, 9, 8, 1, 4, 7],\n",
        "                       [1, 7, 8, 4, 3, 2, 5, 6, 9],\n",
        "                       [6, 4, 9, 5, 7, 1, 3, 2, 8],\n",
        "                       [4, 2, 1, 7, 5, 3, 9, 8, 6],\n",
        "                       [3, 6, 5, 8, 4, 9, 7, 1, 2],\n",
        "                       [9, 8, 7, 1, 2, 6, 4, 3, 5]]"
      ]
    },
    {
      "cell_type": "markdown",
      "id": "b0c242d7-65da-40da-a3e6-8ead58d6db6b",
      "metadata": {
        "id": "b0c242d7-65da-40da-a3e6-8ead58d6db6b"
      },
      "source": [
        "Create a 3D array for each pair above. Call them\n",
        "\n",
        "game_and_solution_1\n",
        "\n",
        "game_and_solution_2"
      ]
    },
    {
      "cell_type": "code",
      "execution_count": null,
      "id": "c8ab5fb5-3cf3-4641-840c-6cd1adc10544",
      "metadata": {
        "tags": [],
        "id": "c8ab5fb5-3cf3-4641-840c-6cd1adc10544"
      },
      "outputs": [],
      "source": [
        "game_and_solution_1 =\n",
        "game_and_solution_2 ="
      ]
    },
    {
      "cell_type": "markdown",
      "id": "2ce76779-232d-4908-9ea1-7d78b8825582",
      "metadata": {
        "id": "2ce76779-232d-4908-9ea1-7d78b8825582"
      },
      "source": [
        "Create a 4D array with the two 3D arrays above. Call it **games_and_solutions**"
      ]
    },
    {
      "cell_type": "code",
      "execution_count": null,
      "id": "487c6c0b-0cb6-4226-a947-829582fde86e",
      "metadata": {
        "tags": [],
        "id": "487c6c0b-0cb6-4226-a947-829582fde86e"
      },
      "outputs": [],
      "source": [
        "games_and_solutions ="
      ]
    },
    {
      "cell_type": "markdown",
      "id": "fd506939-042d-4708-ae86-2287d92e6ae4",
      "metadata": {
        "id": "fd506939-042d-4708-ae86-2287d92e6ae4"
      },
      "source": [
        "Print the shape of games_and_solutions"
      ]
    },
    {
      "cell_type": "code",
      "execution_count": null,
      "id": "a739f3f8-3f63-4d24-b0ec-bf10a4153098",
      "metadata": {
        "tags": [],
        "id": "a739f3f8-3f63-4d24-b0ec-bf10a4153098"
      },
      "outputs": [],
      "source": []
    },
    {
      "cell_type": "markdown",
      "id": "63176ee3-0add-4bb4-b8fc-fb6738f4d723",
      "metadata": {
        "id": "63176ee3-0add-4bb4-b8fc-fb6738f4d723"
      },
      "source": [
        "Use the method flatten to collaps the 4D array in a 1D array. Call it **flattened_game**"
      ]
    },
    {
      "cell_type": "code",
      "execution_count": null,
      "id": "5247144f-e14a-4992-95d6-e017d646c603",
      "metadata": {
        "tags": [],
        "id": "5247144f-e14a-4992-95d6-e017d646c603"
      },
      "outputs": [],
      "source": [
        "flattened_game ="
      ]
    },
    {
      "cell_type": "markdown",
      "id": "0a2bddc0-ea54-4852-ab0d-fba1300830e8",
      "metadata": {
        "id": "0a2bddc0-ea54-4852-ab0d-fba1300830e8"
      },
      "source": [
        "Print the shape of flattened_game"
      ]
    },
    {
      "cell_type": "code",
      "execution_count": null,
      "id": "12de95be-ef79-4265-810f-87aa61d1f4cf",
      "metadata": {
        "tags": [],
        "id": "12de95be-ef79-4265-810f-87aa61d1f4cf"
      },
      "outputs": [],
      "source": []
    },
    {
      "cell_type": "markdown",
      "id": "e3063212-48e7-41be-9bd3-2bd745d9aa9b",
      "metadata": {
        "id": "e3063212-48e7-41be-9bd3-2bd745d9aa9b"
      },
      "source": [
        "Reshape the 1D array back into the 4D array with the same dimensions as above (2,2,9,9). Call it old_game"
      ]
    },
    {
      "cell_type": "code",
      "execution_count": null,
      "id": "3a026b83-6a8a-4a7c-8ca1-74cc52b9c068",
      "metadata": {
        "tags": [],
        "id": "3a026b83-6a8a-4a7c-8ca1-74cc52b9c068"
      },
      "outputs": [],
      "source": [
        "old_game ="
      ]
    },
    {
      "cell_type": "markdown",
      "id": "5be1dc1f-5cb2-4647-89f6-bd95b60d6f42",
      "metadata": {
        "id": "5be1dc1f-5cb2-4647-89f6-bd95b60d6f42"
      },
      "source": [
        "Print the shape of old_game"
      ]
    },
    {
      "cell_type": "code",
      "execution_count": null,
      "id": "a3f6369d-8632-4428-a437-3b97281cce6d",
      "metadata": {
        "tags": [],
        "id": "a3f6369d-8632-4428-a437-3b97281cce6d"
      },
      "outputs": [],
      "source": []
    },
    {
      "cell_type": "markdown",
      "id": "71f0ec4d-2f1f-4dfa-8223-ea5f82624240",
      "metadata": {
        "id": "71f0ec4d-2f1f-4dfa-8223-ea5f82624240"
      },
      "source": [
        "- Can you reshape flattened_game as a 4D with (2,2,27,3) dimensions?\n",
        "- Can you reshape flattened_game as a 3D with (2,6,27) dimensions?\n",
        "- Can you reshape flattened_game as a 2D with (4,81) dimensions?\n",
        "- Can you reshape flattened_game as a 4D with (2,3,9,9) dimensions?"
      ]
    },
    {
      "cell_type": "code",
      "execution_count": null,
      "id": "aad90ab9-277d-4de7-8ece-c9ff4209cf77",
      "metadata": {
        "tags": [],
        "id": "aad90ab9-277d-4de7-8ece-c9ff4209cf77"
      },
      "outputs": [],
      "source": []
    },
    {
      "cell_type": "code",
      "execution_count": null,
      "id": "8533a4d8-7142-4bd3-84c2-087c11ba3009",
      "metadata": {
        "tags": [],
        "id": "8533a4d8-7142-4bd3-84c2-087c11ba3009"
      },
      "outputs": [],
      "source": []
    },
    {
      "cell_type": "code",
      "execution_count": null,
      "id": "7ebfeeae-f562-4581-8e47-e6442507debc",
      "metadata": {
        "tags": [],
        "id": "7ebfeeae-f562-4581-8e47-e6442507debc"
      },
      "outputs": [],
      "source": []
    },
    {
      "cell_type": "code",
      "execution_count": null,
      "id": "a6319829-d7fc-4242-ac19-37b73d5446d0",
      "metadata": {
        "tags": [],
        "id": "a6319829-d7fc-4242-ac19-37b73d5446d0"
      },
      "outputs": [],
      "source": []
    },
    {
      "cell_type": "markdown",
      "id": "e41a9df0-31fe-4149-a6a6-09e2cb18d661",
      "metadata": {
        "id": "e41a9df0-31fe-4149-a6a6-09e2cb18d661"
      },
      "source": [
        "Why?"
      ]
    },
    {
      "cell_type": "markdown",
      "id": "74eaa3e6-152e-4a8b-afad-ee168812f607",
      "metadata": {
        "id": "74eaa3e6-152e-4a8b-afad-ee168812f607"
      },
      "source": [
        "The total number of elements: 2x2x9x9=324 must be conserved"
      ]
    },
    {
      "cell_type": "markdown",
      "id": "47b97a12-7e91-4fd6-abea-192644bc0219",
      "metadata": {
        "id": "47b97a12-7e91-4fd6-abea-192644bc0219"
      },
      "source": [
        "## Slicing a bit"
      ]
    },
    {
      "cell_type": "markdown",
      "id": "8bac7cb2-34ba-4f02-ab10-361c468ee0c4",
      "metadata": {
        "id": "8bac7cb2-34ba-4f02-ab10-361c468ee0c4"
      },
      "source": [
        "Slice the 4D array **games_and_solutions** to extract the 4 sub-arrays corresponding to the figure below. Call the slice\n",
        "**sliced_4D_array**"
      ]
    },
    {
      "cell_type": "markdown",
      "source": [
        "![sub_array.png](data:image/png;base64,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)"
      ],
      "metadata": {
        "id": "meneQNM8EieT"
      },
      "id": "meneQNM8EieT"
    },
    {
      "cell_type": "code",
      "execution_count": null,
      "id": "2bb80031-85ce-4afa-ad15-2243be6be998",
      "metadata": {
        "tags": [],
        "id": "2bb80031-85ce-4afa-ad15-2243be6be998"
      },
      "outputs": [],
      "source": [
        "sliced_4D_array ="
      ]
    },
    {
      "cell_type": "markdown",
      "id": "a82e4956-1b13-4a60-8324-86b057829621",
      "metadata": {
        "id": "a82e4956-1b13-4a60-8324-86b057829621"
      },
      "source": [
        "Print sliced_4D_array"
      ]
    },
    {
      "cell_type": "code",
      "execution_count": null,
      "id": "34b600cd-b2bb-4d72-82ac-53b9a480477a",
      "metadata": {
        "tags": [],
        "id": "34b600cd-b2bb-4d72-82ac-53b9a480477a"
      },
      "outputs": [],
      "source": []
    },
    {
      "cell_type": "markdown",
      "id": "701e4f0f-d497-4c42-a408-42a90d8a0e58",
      "metadata": {
        "id": "701e4f0f-d497-4c42-a408-42a90d8a0e58"
      },
      "source": [
        "Print the shape of sliced_4D_array"
      ]
    },
    {
      "cell_type": "code",
      "execution_count": null,
      "id": "9ea56980-e5c0-47be-ada8-84b304456ce9",
      "metadata": {
        "tags": [],
        "id": "9ea56980-e5c0-47be-ada8-84b304456ce9"
      },
      "outputs": [],
      "source": []
    }
  ],
  "metadata": {
    "kernelspec": {
      "display_name": "Python 3 (ipykernel)",
      "language": "python",
      "name": "python3"
    },
    "language_info": {
      "codemirror_mode": {
        "name": "ipython",
        "version": 3
      },
      "file_extension": ".py",
      "mimetype": "text/x-python",
      "name": "python",
      "nbconvert_exporter": "python",
      "pygments_lexer": "ipython3",
      "version": "3.9.16"
    },
    "colab": {
      "provenance": [],
      "include_colab_link": true
    }
  },
  "nbformat": 4,
  "nbformat_minor": 5
}