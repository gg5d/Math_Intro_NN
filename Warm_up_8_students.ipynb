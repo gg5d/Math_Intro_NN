{
  "cells": [
    {
      "cell_type": "markdown",
      "metadata": {
        "id": "view-in-github",
        "colab_type": "text"
      },
      "source": [
        "<a href=\"https://colab.research.google.com/github/gg5d/Math_Intro_NN/blob/master/Warm_up_8_students.ipynb\" target=\"_parent\"><img src=\"https://colab.research.google.com/assets/colab-badge.svg\" alt=\"Open In Colab\"/></a>"
      ]
    },
    {
      "cell_type": "markdown",
      "id": "c67e7e50-4ace-43db-aefd-8755eb39cabf",
      "metadata": {
        "tags": [],
        "id": "c67e7e50-4ace-43db-aefd-8755eb39cabf"
      },
      "source": [
        "### Warm_up NumPy 2 Continued\n",
        "### University of Virginia\n",
        "### DS 1002: Programming for Data Science\n",
        "---  \n",
        "\n",
        "### PREREQUISITES\n",
        "- import\n",
        "- functions\n",
        "- for ... in\n",
        "\n",
        "### SOURCES\n",
        "- https://numpy.org/\n",
        "- https://en.wikipedia.org/wiki/NumPy\n",
        "- https://www.scipy.org/\n",
        "- https://en.wikipedia.org/wiki/SciPy\n",
        "- https://numpy.org/doc/stable/reference/generated/numpy.ndarray.html\n",
        "- https://docs.scipy.org/doc/numpy-1.15.1/reference/generated/numpy.random.randint.html\n",
        "\n",
        "### OBJECTIVES\n",
        "- Introduction to Numpy\n",
        "\n",
        "### CONCEPTS\n",
        "- The numpy package contains useful functions for math operations\n",
        "- The ndarray is the workhorse of the package"
      ]
    },
    {
      "cell_type": "markdown",
      "id": "33efe4aa-ce72-4779-967b-677c78b63f15",
      "metadata": {
        "id": "33efe4aa-ce72-4779-967b-677c78b63f15"
      },
      "source": [
        "Import what is needed to run numpy"
      ]
    },
    {
      "cell_type": "code",
      "execution_count": null,
      "id": "6e92d60e-ca48-4dbd-b675-98f6e28eb6c8",
      "metadata": {
        "tags": [],
        "id": "6e92d60e-ca48-4dbd-b675-98f6e28eb6c8"
      },
      "outputs": [],
      "source": [
        "import"
      ]
    },
    {
      "cell_type": "markdown",
      "id": "6f13d4ee-6713-483a-8db7-10ae66ffc06b",
      "metadata": {
        "id": "6f13d4ee-6713-483a-8db7-10ae66ffc06b"
      },
      "source": [
        "### Reshape a Multidimensional Array"
      ]
    },
    {
      "cell_type": "markdown",
      "id": "d5578187-49bb-498a-ace5-f0a826b2311b",
      "metadata": {
        "id": "d5578187-49bb-498a-ace5-f0a826b2311b"
      },
      "source": [
        "You are given below 4 2D arrays, each pair corresponding to one sudoku game/solution"
      ]
    },
    {
      "cell_type": "code",
      "execution_count": null,
      "id": "a3235b19-f912-4bf2-9586-ac4ef559c8c6",
      "metadata": {
        "tags": [],
        "id": "a3235b19-f912-4bf2-9586-ac4ef559c8c6"
      },
      "outputs": [],
      "source": [
        "sudoku_game = [[0, 0, 4, 3, 0, 0, 2, 0, 9],\n",
        "               [0, 0, 5, 0, 0, 9, 0, 0, 1],\n",
        "               [0, 7, 0, 0, 6, 0, 0, 4, 3],\n",
        "               [0, 0, 6, 0, 0, 2, 0, 8, 7],\n",
        "               [1, 9, 0, 0, 0, 7, 4, 0, 0],\n",
        "               [0, 5, 0, 0, 8, 3, 0, 0, 0],\n",
        "               [6, 0, 0, 0, 0, 0, 1, 0, 5],\n",
        "               [0, 0, 3, 5, 0, 8, 6, 9, 0],\n",
        "               [0, 4, 2, 9, 1, 0, 3, 0, 0]]\n",
        "\n",
        "sudoku_solution = [[8, 6, 4, 3, 7, 1, 2, 5, 9],\n",
        "                   [3, 2, 5, 8, 4, 9, 7, 6, 1],\n",
        "                   [9, 7, 1, 2, 6, 5, 8, 4, 3],\n",
        "                   [4, 3, 6, 1, 9, 2, 5, 8, 7],\n",
        "                   [1, 9, 8, 6, 5, 7, 4, 3, 2],\n",
        "                   [2, 5, 7, 4, 8, 3, 9, 1, 6],\n",
        "                   [6, 8, 9, 7, 3, 4, 1, 2, 5],\n",
        "                   [7, 1, 3, 5, 2, 8, 6, 9, 4],\n",
        "                   [5, 4, 2, 9, 1, 6, 3, 7, 8]]\n"
      ]
    },
    {
      "cell_type": "code",
      "execution_count": null,
      "id": "f754c4f3-66c4-44c2-a3ac-9f54f8c93334",
      "metadata": {
        "tags": [],
        "id": "f754c4f3-66c4-44c2-a3ac-9f54f8c93334"
      },
      "outputs": [],
      "source": [
        "new_sudoku_game = [[0, 0, 4, 3, 0, 0, 0, 0, 0],\n",
        "                   [8, 9, 0, 2, 0, 0, 6, 7, 0],\n",
        "                   [7, 0, 0, 9, 0, 0, 0, 5, 0],\n",
        "                   [5, 0, 0, 0, 0, 8, 1, 4, 0],\n",
        "                   [0, 7, 0, 0, 3, 2, 0, 6, 0],\n",
        "                   [6, 0, 0, 0, 0, 1, 3, 0, 8],\n",
        "                   [0, 0, 1, 7, 5, 0, 9, 0, 0],\n",
        "                   [0, 0, 5, 0, 4, 0, 0, 1, 2],\n",
        "                   [9, 8, 0, 0, 0, 6, 0, 0, 5]]\n",
        "\n",
        "new_sudoku_solution = [[2, 5, 4, 3, 6, 7, 8, 9, 1],\n",
        "                       [8, 9, 3, 2, 1, 5, 6, 7, 4],\n",
        "                       [7, 1, 6, 9, 8, 4, 2, 5, 3],\n",
        "                       [5, 3, 2, 6, 9, 8, 1, 4, 7],\n",
        "                       [1, 7, 8, 4, 3, 2, 5, 6, 9],\n",
        "                       [6, 4, 9, 5, 7, 1, 3, 2, 8],\n",
        "                       [4, 2, 1, 7, 5, 3, 9, 8, 6],\n",
        "                       [3, 6, 5, 8, 4, 9, 7, 1, 2],\n",
        "                       [9, 8, 7, 1, 2, 6, 4, 3, 5]]"
      ]
    },
    {
      "cell_type": "markdown",
      "id": "b0c242d7-65da-40da-a3e6-8ead58d6db6b",
      "metadata": {
        "id": "b0c242d7-65da-40da-a3e6-8ead58d6db6b"
      },
      "source": [
        "Create a 3D array for each pair above. Call them\n",
        "\n",
        "game_and_solution_1\n",
        "\n",
        "game_and_solution_2"
      ]
    },
    {
      "cell_type": "code",
      "execution_count": null,
      "id": "c8ab5fb5-3cf3-4641-840c-6cd1adc10544",
      "metadata": {
        "tags": [],
        "id": "c8ab5fb5-3cf3-4641-840c-6cd1adc10544"
      },
      "outputs": [],
      "source": [
        "game_and_solution_1 =\n",
        "game_and_solution_2 ="
      ]
    },
    {
      "cell_type": "markdown",
      "id": "2ce76779-232d-4908-9ea1-7d78b8825582",
      "metadata": {
        "id": "2ce76779-232d-4908-9ea1-7d78b8825582"
      },
      "source": [
        "Create a 4D array with the two 3D arrays above. Call it **games_and_solutions**"
      ]
    },
    {
      "cell_type": "code",
      "execution_count": null,
      "id": "487c6c0b-0cb6-4226-a947-829582fde86e",
      "metadata": {
        "tags": [],
        "id": "487c6c0b-0cb6-4226-a947-829582fde86e"
      },
      "outputs": [],
      "source": [
        "games_and_solutions ="
      ]
    },
    {
      "cell_type": "markdown",
      "id": "fd506939-042d-4708-ae86-2287d92e6ae4",
      "metadata": {
        "id": "fd506939-042d-4708-ae86-2287d92e6ae4"
      },
      "source": [
        "Print the shape of games_and_solutions"
      ]
    },
    {
      "cell_type": "code",
      "execution_count": null,
      "id": "a739f3f8-3f63-4d24-b0ec-bf10a4153098",
      "metadata": {
        "tags": [],
        "id": "a739f3f8-3f63-4d24-b0ec-bf10a4153098"
      },
      "outputs": [],
      "source": []
    },
    {
      "cell_type": "markdown",
      "id": "63176ee3-0add-4bb4-b8fc-fb6738f4d723",
      "metadata": {
        "id": "63176ee3-0add-4bb4-b8fc-fb6738f4d723"
      },
      "source": [
        "Use the method flatten to collaps the 4D array in a 1D array. Call it **flattened_game**"
      ]
    },
    {
      "cell_type": "code",
      "execution_count": null,
      "id": "5247144f-e14a-4992-95d6-e017d646c603",
      "metadata": {
        "tags": [],
        "id": "5247144f-e14a-4992-95d6-e017d646c603"
      },
      "outputs": [],
      "source": [
        "flattened_game ="
      ]
    },
    {
      "cell_type": "markdown",
      "id": "0a2bddc0-ea54-4852-ab0d-fba1300830e8",
      "metadata": {
        "id": "0a2bddc0-ea54-4852-ab0d-fba1300830e8"
      },
      "source": [
        "Print the shape of flattened_game"
      ]
    },
    {
      "cell_type": "code",
      "execution_count": null,
      "id": "12de95be-ef79-4265-810f-87aa61d1f4cf",
      "metadata": {
        "tags": [],
        "id": "12de95be-ef79-4265-810f-87aa61d1f4cf"
      },
      "outputs": [],
      "source": []
    },
    {
      "cell_type": "markdown",
      "id": "e3063212-48e7-41be-9bd3-2bd745d9aa9b",
      "metadata": {
        "id": "e3063212-48e7-41be-9bd3-2bd745d9aa9b"
      },
      "source": [
        "Reshape the 1D array back into the 4D array with the same dimensions as above (2,2,9,9). Call it old_game"
      ]
    },
    {
      "cell_type": "code",
      "execution_count": null,
      "id": "3a026b83-6a8a-4a7c-8ca1-74cc52b9c068",
      "metadata": {
        "tags": [],
        "id": "3a026b83-6a8a-4a7c-8ca1-74cc52b9c068"
      },
      "outputs": [],
      "source": [
        "old_game ="
      ]
    },
    {
      "cell_type": "markdown",
      "id": "5be1dc1f-5cb2-4647-89f6-bd95b60d6f42",
      "metadata": {
        "id": "5be1dc1f-5cb2-4647-89f6-bd95b60d6f42"
      },
      "source": [
        "Print the shape of old_game"
      ]
    },
    {
      "cell_type": "code",
      "execution_count": null,
      "id": "a3f6369d-8632-4428-a437-3b97281cce6d",
      "metadata": {
        "tags": [],
        "id": "a3f6369d-8632-4428-a437-3b97281cce6d"
      },
      "outputs": [],
      "source": []
    },
    {
      "cell_type": "markdown",
      "id": "71f0ec4d-2f1f-4dfa-8223-ea5f82624240",
      "metadata": {
        "id": "71f0ec4d-2f1f-4dfa-8223-ea5f82624240"
      },
      "source": [
        "- Can you reshape flattened_game as a 4D with (2,2,27,3) dimensions?\n",
        "- Can you reshape flattened_game as a 3D with (2,6,27) dimensions?\n",
        "- Can you reshape flattened_game as a 2D with (4,81) dimensions?\n",
        "- Can you reshape flattened_game as a 4D with (2,3,9,9) dimensions?"
      ]
    },
    {
      "cell_type": "code",
      "execution_count": null,
      "id": "aad90ab9-277d-4de7-8ece-c9ff4209cf77",
      "metadata": {
        "tags": [],
        "id": "aad90ab9-277d-4de7-8ece-c9ff4209cf77"
      },
      "outputs": [],
      "source": []
    },
    {
      "cell_type": "code",
      "execution_count": null,
      "id": "8533a4d8-7142-4bd3-84c2-087c11ba3009",
      "metadata": {
        "tags": [],
        "id": "8533a4d8-7142-4bd3-84c2-087c11ba3009"
      },
      "outputs": [],
      "source": []
    },
    {
      "cell_type": "code",
      "execution_count": null,
      "id": "7ebfeeae-f562-4581-8e47-e6442507debc",
      "metadata": {
        "tags": [],
        "id": "7ebfeeae-f562-4581-8e47-e6442507debc"
      },
      "outputs": [],
      "source": []
    },
    {
      "cell_type": "code",
      "execution_count": null,
      "id": "a6319829-d7fc-4242-ac19-37b73d5446d0",
      "metadata": {
        "tags": [],
        "id": "a6319829-d7fc-4242-ac19-37b73d5446d0"
      },
      "outputs": [],
      "source": []
    },
    {
      "cell_type": "markdown",
      "id": "e41a9df0-31fe-4149-a6a6-09e2cb18d661",
      "metadata": {
        "id": "e41a9df0-31fe-4149-a6a6-09e2cb18d661"
      },
      "source": [
        "Why?"
      ]
    },
    {
      "cell_type": "markdown",
      "id": "74eaa3e6-152e-4a8b-afad-ee168812f607",
      "metadata": {
        "id": "74eaa3e6-152e-4a8b-afad-ee168812f607"
      },
      "source": [
        "The total number of elements: 2x2x9x9=324 must be conserved"
      ]
    },
    {
      "cell_type": "markdown",
      "id": "47b97a12-7e91-4fd6-abea-192644bc0219",
      "metadata": {
        "id": "47b97a12-7e91-4fd6-abea-192644bc0219"
      },
      "source": [
        "## Slicing a bit"
      ]
    },
    {
      "cell_type": "markdown",
      "id": "8bac7cb2-34ba-4f02-ab10-361c468ee0c4",
      "metadata": {
        "id": "8bac7cb2-34ba-4f02-ab10-361c468ee0c4"
      },
      "source": [
        "Slice the 4D array **games_and_solutions** to extract the 4 sub-arrays corresponding to the figure below. Call the slice\n",
        "**sliced_4D_array**"
      ]
    },
    {
      "cell_type": "markdown",
      "id": "545da668-1cff-4794-9317-96c85f1bd832",
      "metadata": {
        "id": "545da668-1cff-4794-9317-96c85f1bd832"
      },
      "source": [
        "  ![sub_array.png](attachment:8f5a9890-9361-4795-820d-7b05811102ee.png)"
      ]
    },
    {
      "cell_type": "code",
      "execution_count": null,
      "id": "2bb80031-85ce-4afa-ad15-2243be6be998",
      "metadata": {
        "tags": [],
        "id": "2bb80031-85ce-4afa-ad15-2243be6be998"
      },
      "outputs": [],
      "source": [
        "sliced_4D_array ="
      ]
    },
    {
      "cell_type": "markdown",
      "id": "a82e4956-1b13-4a60-8324-86b057829621",
      "metadata": {
        "id": "a82e4956-1b13-4a60-8324-86b057829621"
      },
      "source": [
        "Print sliced_4D_array"
      ]
    },
    {
      "cell_type": "code",
      "execution_count": null,
      "id": "34b600cd-b2bb-4d72-82ac-53b9a480477a",
      "metadata": {
        "tags": [],
        "id": "34b600cd-b2bb-4d72-82ac-53b9a480477a"
      },
      "outputs": [],
      "source": []
    },
    {
      "cell_type": "markdown",
      "id": "701e4f0f-d497-4c42-a408-42a90d8a0e58",
      "metadata": {
        "id": "701e4f0f-d497-4c42-a408-42a90d8a0e58"
      },
      "source": [
        "Print the shape of sliced_4D_array"
      ]
    },
    {
      "cell_type": "code",
      "execution_count": null,
      "id": "9ea56980-e5c0-47be-ada8-84b304456ce9",
      "metadata": {
        "tags": [],
        "id": "9ea56980-e5c0-47be-ada8-84b304456ce9"
      },
      "outputs": [],
      "source": []
    }
  ],
  "metadata": {
    "kernelspec": {
      "display_name": "Python 3 (ipykernel)",
      "language": "python",
      "name": "python3"
    },
    "language_info": {
      "codemirror_mode": {
        "name": "ipython",
        "version": 3
      },
      "file_extension": ".py",
      "mimetype": "text/x-python",
      "name": "python",
      "nbconvert_exporter": "python",
      "pygments_lexer": "ipython3",
      "version": "3.9.16"
    },
    "colab": {
      "provenance": [],
      "include_colab_link": true
    }
  },
  "nbformat": 4,
  "nbformat_minor": 5
}